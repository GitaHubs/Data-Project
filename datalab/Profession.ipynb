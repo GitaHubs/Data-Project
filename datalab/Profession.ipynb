{
 "cells": [
  {
   "cell_type": "markdown",
   "metadata": {},
   "source": [
    "### Profession Generator"
   ]
  },
  {
   "cell_type": "code",
   "execution_count": 1,
   "metadata": {},
   "outputs": [],
   "source": [
    "import json as json\n",
    "import random as random\n",
    "import pandas as pd\n",
    "import matplotlib.pyplot as plt\n",
    "import seaborn as sns\n",
    "sns.set()"
   ]
  },
  {
   "cell_type": "code",
   "execution_count": 2,
   "metadata": {},
   "outputs": [],
   "source": [
    "Prof = {'Teaching':['English','Physics','Math'],\\\n",
    "             'IT': ['Software','Cloud Computing','Full Stack'],\\\n",
    "             'Doctor' : ['Vetenary','Cancer'],\\\n",
    "             'Agriculture' : ['Sugarcane','Vegetable','Goat Farm'],\\\n",
    "             'Business' : ['Food Industry','Stationary'],\\\n",
    "             'Research' : ['Math','Physics','Chemistry'],\\\n",
    "       'Media':['Reporter','Journalist','Newsreader']}"
   ]
  },
  {
   "cell_type": "code",
   "execution_count": 3,
   "metadata": {},
   "outputs": [
    {
     "name": "stdout",
     "output_type": "stream",
     "text": [
      "{'major': 'Doctor', 'branch': 'Cancer'}\n"
     ]
    }
   ],
   "source": [
    "all_professions = list(Prof.keys())\n",
    "major = random.choice(all_professions)\n",
    "branch = random.choice(Prof[major])\n",
    "profession = {\"major\": major, \"branch\":branch}\n",
    "print(profession)"
   ]
  },
  {
   "cell_type": "code",
   "execution_count": 4,
   "metadata": {},
   "outputs": [],
   "source": [
    "with open(\"data/Profession.json\", 'w') as f:\n",
    "    json.dump(Prof,f)"
   ]
  },
  {
   "cell_type": "code",
   "execution_count": 5,
   "metadata": {},
   "outputs": [],
   "source": [
    "'''\n",
    " This function generates a random foreign address \n",
    "'''    \n",
    "def random_profession(data):\n",
    "    all_prof = list(data.keys())\n",
    "    major = random.choice(all_prof)\n",
    "    branch = random.choice(data[major])\n",
    "    prof = {\"major\": major, \"branch\":branch}\n",
    "    return prof\n",
    "\n",
    "\n"
   ]
  },
  {
   "cell_type": "markdown",
   "metadata": {},
   "source": [
    "### Assignment:"
   ]
  },
  {
   "cell_type": "markdown",
   "metadata": {},
   "source": [
    "1. Create a complete profession generator"
   ]
  },
  {
   "cell_type": "markdown",
   "metadata": {},
   "source": [
    "------"
   ]
  },
  {
   "cell_type": "code",
   "execution_count": null,
   "metadata": {},
   "outputs": [],
   "source": []
  },
  {
   "cell_type": "code",
   "execution_count": null,
   "metadata": {},
   "outputs": [],
   "source": []
  },
  {
   "cell_type": "code",
   "execution_count": null,
   "metadata": {},
   "outputs": [],
   "source": []
  },
  {
   "cell_type": "code",
   "execution_count": null,
   "metadata": {},
   "outputs": [],
   "source": []
  }
 ],
 "metadata": {
  "kernelspec": {
   "display_name": "Python 3",
   "language": "python",
   "name": "python3"
  },
  "language_info": {
   "codemirror_mode": {
    "name": "ipython",
    "version": 3
   },
   "file_extension": ".py",
   "mimetype": "text/x-python",
   "name": "python",
   "nbconvert_exporter": "python",
   "pygments_lexer": "ipython3",
   "version": "3.6.4"
  }
 },
 "nbformat": 4,
 "nbformat_minor": 2
}
