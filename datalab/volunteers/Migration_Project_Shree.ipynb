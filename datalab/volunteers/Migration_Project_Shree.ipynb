{
 "cells": [
  {
   "cell_type": "code",
   "execution_count": 0,
   "metadata": {
    "colab": {},
    "colab_type": "code",
    "id": "9Y5s8qse3bKj"
   },
   "outputs": [],
   "source": [
    "import numpy as np\n",
    "import random as random\n",
    "import pandas as pd\n",
    "import string\n",
    "import matplotlib\n",
    "import matplotlib.pyplot as plt\n",
    "%matplotlib inline\n",
    "import seaborn as sns\n",
    "sns.set()"
   ]
  },
  {
   "cell_type": "code",
   "execution_count": 0,
   "metadata": {
    "colab": {},
    "colab_type": "code",
    "id": "_ByDh2sV3bK4"
   },
   "outputs": [],
   "source": [
    "Nepal={\n",
    "    \"PN1\":('Bhojpur','Dhankuta', 'Ilam','Jhapa', 'Khotang','Morang', 'Okhaldhunga','Panchthar', 'Sankhauasabha', 'Solukhumbu', 'Sunsari', 'Taplejung', 'Terhathum', 'Udayapur'),\n",
    "    \"PN2\":('Saptari','Parsa','Bara','Siraha','Dhanusha','Rautahat','Mahottari'),\n",
    "    \"PN3\":('Bhaktapur','Chitwan','Dhading', 'Dolakha','Kathmandu','Kabrepalanchok','Lalitpur', 'Makwanpur', 'Nukuwot', 'Ramechaap','Rasuwa', 'Sindhuli', 'Sindupalchok'),\n",
    "    \"PN4\":('Baglung', 'Gorkha','Kaski', 'Lamjung', 'Manang', 'Mustang', 'Myagdi', 'Nawalpur', 'Parbat', 'Syangja', 'Tanahun'),\n",
    "    \"PN5\":('Arghakhanchi', 'Banke', 'Bardiya', 'Dang', 'Eastern_Rukum', 'Gulmi', 'Kapilvastu','Parasi', 'Palpa', 'Pyuthan', 'Rolpa', 'Rupandehi'),\n",
    "    \"PN6\":('Dailekh', 'Dolpa', 'Humla', 'Jajarkot', 'Jumla', 'Kalikot', 'Mugu', 'Salyan', 'Surkhet', 'Western_Rukum'),\n",
    "    \"PN7\":('Achham', 'Baitadi', 'Bajhang', 'Bajura', 'Dadeldhura', 'Darchula', 'Doti','Kailali', 'Kanchanpur'),\n",
    "\n",
    "}\n",
    "#print (Nepal[\"PN1\"][1])"
   ]
  },
  {
   "cell_type": "code",
   "execution_count": 0,
   "metadata": {
    "colab": {},
    "colab_type": "code",
    "id": "n7B6ordr3bLD"
   },
   "outputs": [],
   "source": [
    "Foreign=['Saudi_Arabia', 'Qatar', 'India',' Malaysia','UAE', 'America', 'Australia', 'Bahrain','Kuwait', 'Canada', 'Norway', 'UK', 'Sweden']"
   ]
  },
  {
   "cell_type": "code",
   "execution_count": 0,
   "metadata": {
    "colab": {},
    "colab_type": "code",
    "id": "RWyWMUbp3bLK"
   },
   "outputs": [],
   "source": [
    "Skills=['Agriculture','Construction','Education','Research','Sports']"
   ]
  },
  {
   "cell_type": "code",
   "execution_count": 0,
   "metadata": {
    "colab": {},
    "colab_type": "code",
    "id": "FqJ6TPmG3bLd"
   },
   "outputs": [],
   "source": [
    "def Names(k: int, ntokens: int,\n",
    "               pool: str=string.ascii_uppercase) -> set:\n",
    "    \"\"\"Generate a set of unique string tokens.\n",
    "\n",
    "    k: Length of each token\n",
    "    ntokens: Number of tokens\n",
    "    pool: Iterable of characters to choose from\n",
    "\n",
    "    For a highly optimized version:\n",
    "    https://stackoverflow.com/a/48421303/7954504\n",
    "    \"\"\"\n",
    "\n",
    "    Name = set()\n",
    "\n",
    "    # An optimization for tightly-bound loops:\n",
    "    # Bind these methods outside of a loop\n",
    "    join = ''.join\n",
    "    add = Name.add\n",
    "\n",
    "    while len(Name) < ntokens:\n",
    "        token = join(random.choices(pool, k=k))\n",
    "        add(token)\n",
    "    return Name"
   ]
  },
  {
   "cell_type": "code",
   "execution_count": 6,
   "metadata": {
    "colab": {
     "base_uri": "https://localhost:8080/",
     "height": 35
    },
    "colab_type": "code",
    "executionInfo": {
     "elapsed": 494,
     "status": "ok",
     "timestamp": 1547061676255,
     "user": {
      "displayName": "Shree Bhattarai",
      "photoUrl": "https://lh3.googleusercontent.com/-cnDMN7fu9Tk/AAAAAAAAAAI/AAAAAAAACLY/OX0mGbR5vKM/s64/photo.jpg",
      "userId": "01227725522905545354"
     },
     "user_tz": 300
    },
    "id": "kNz1d9b93bLk",
    "outputId": "19d69e15-9613-4186-8f0b-039a5b5f56b6"
   },
   "outputs": [
    {
     "data": {
      "text/plain": [
       "'Kuwait'"
      ]
     },
     "execution_count": 6,
     "metadata": {
      "tags": []
     },
     "output_type": "execute_result"
    }
   ],
   "source": [
    "random.choice(Foreign)"
   ]
  },
  {
   "cell_type": "code",
   "execution_count": 9,
   "metadata": {
    "colab": {
     "base_uri": "https://localhost:8080/",
     "height": 1872
    },
    "colab_type": "code",
    "executionInfo": {
     "elapsed": 331,
     "status": "ok",
     "timestamp": 1547061741970,
     "user": {
      "displayName": "Shree Bhattarai",
      "photoUrl": "https://lh3.googleusercontent.com/-cnDMN7fu9Tk/AAAAAAAAAAI/AAAAAAAACLY/OX0mGbR5vKM/s64/photo.jpg",
      "userId": "01227725522905545354"
     },
     "user_tz": 300
    },
    "id": "EJlXIAk8AjCU",
    "outputId": "56016efc-792a-4fdc-9047-b12ef778488e"
   },
   "outputs": [
    {
     "name": "stdout",
     "output_type": "stream",
     "text": [
      "     FirstName    LastName Gender     Countries         Skill  Investment  \\\n",
      "0   QBAYUGKFYP  XYPKOQOZVT      M           UAE     Education      796530   \n",
      "1   OHQWDSIVRJ  SSSDBOWQGE      F      Malaysia        Sports      809641   \n",
      "2   ODTRYBJWGR  IVMHCSVLJA      F        Sweden      Research      121456   \n",
      "3   XEADAPERGZ  JYTCDZOCKP      M  Saudi_Arabia   Agriculture      555582   \n",
      "4   VIMSYYQVCC  DIHMFRTTOI      F        Sweden  Construction      153997   \n",
      "5   GECJKFQOWT  AZBZYHVDAT      F        Canada     Education        4615   \n",
      "6   UBMHUGTQVF  TWVTRORQIP      F       Bahrain   Agriculture      465857   \n",
      "7   YKEGXRTKQZ  JIORRLRUBV      F      Malaysia      Research      504583   \n",
      "8   IBHRRQTWWB  EFRCHQBKCR      M  Saudi_Arabia  Construction      329629   \n",
      "9   BOEKWREVJD  VBGAVRTMMV      F  Saudi_Arabia  Construction      191379   \n",
      "10  LVWVRRBMBP  VHLPGHWUOR      M       Bahrain      Research       62087   \n",
      "11  PJVVQWVUHJ  RKYEXFZJSC      M      Malaysia     Education      895305   \n",
      "12  MOPIGZIPHL  WPGQEMNICC      F           UAE      Research      889961   \n",
      "13  IYWPDOAVBQ  VYLKKJSMSY      M       Bahrain      Research       31682   \n",
      "14  SFXMQQCBDH  AXXCSIHTVC      F        Sweden  Construction      245886   \n",
      "15  CONLRVLQTD  HGUQRNIUOM      M       America        Sports      262771   \n",
      "16  KKTCEHYMZW  HVLJKUWAYG      F         Qatar   Agriculture      997795   \n",
      "17  CNGTLRCAIA  OLVYHDJAFQ      M            UK     Education       71749   \n",
      "18  RPHZRMNNVT  LLNPQOYYPP      F         India        Sports      258064   \n",
      "19  SWQZSWHFAR  DKTLQSQYGS      F       America   Agriculture      594851   \n",
      "20  TBMNHXYEJT  RRDMCLLJQK      M       Bahrain        Sports       94698   \n",
      "21  WKQCVJJLLD  SLMOVVQIRH      M        Kuwait      Research      587114   \n",
      "22  THYMCJGVSP  OPCIXSATGR      F       Bahrain   Agriculture      886490   \n",
      "23  HZTPODXEIS  VYLIJPUKYQ      F        Canada     Education      887119   \n",
      "24  NVIQWCPGMW  IXBWDDPXVR      F        Canada  Construction      673876   \n",
      "25  UTKNKCJTBP  HAJCDREETE      M       Bahrain        Sports      758362   \n",
      "26  HUUCHMRWQJ  OMSYEPPMNE      F        Canada   Agriculture      578495   \n",
      "27  TSJPXKFLCA  LQWOLFGXQH      F     Australia  Construction      319868   \n",
      "28  GEMTHGYGKT  VTSOESFGSP      F        Norway      Research      867888   \n",
      "29  SZKMFQYCUF  SEMPMZTWOG      M        Norway     Education      216903   \n",
      "30  XIZCEYOLPM  QTITYZVZDT      F      Malaysia      Research      829173   \n",
      "31  IURCSFWKNL  IVPHHNZTAA      F  Saudi_Arabia      Research      582439   \n",
      "32  FMOHXUSGUQ  FQXWULWRRH      F      Malaysia        Sports      186432   \n",
      "33  DFECKQZHQV  DCFOALFWMD      M  Saudi_Arabia     Education      848819   \n",
      "34  IAMPQESHVW  DXANYBTHCH      M            UK     Education      744071   \n",
      "35  GWKVLDXQQK  JQPLHNDTRG      M         India      Research      449153   \n",
      "36  QAQAYKLRTL  CECOYJJBNB      M     Australia        Sports      539567   \n",
      "37  AUMWTCFNJQ  ELJUNQQPRL      M        Canada   Agriculture      702272   \n",
      "38  FFQSXDWJBW  OBFSTSDOMW      F  Saudi_Arabia      Research      317303   \n",
      "39  NIQPDXSJXN  HHCHXDBIAK      F        Kuwait        Sports      533219   \n",
      "40  FQNAMJPBZX  UFTVGZDJSN      M        Canada     Education      216798   \n",
      "41  PTKQSCYBZG  GSIVYBTBBV      M        Sweden      Research       77071   \n",
      "42  INKDSWEDAP  ZOKIEGDWMZ      F       Bahrain  Construction      259932   \n",
      "43  ODARSNDWVG  LXAVCGPKQK      M           UAE   Agriculture      849624   \n",
      "44  QZAOXNBBZO  ZQHYKUCTPS      F            UK      Research      256213   \n",
      "45  ELHKYTGXDU  XQEFZBCOXS      F         India     Education      617724   \n",
      "46  ZNJLXAORSK  DJJNSOBEQG      F         Qatar        Sports      942206   \n",
      "47  ADGPOLGPNS  DTGGCVTXVF      F       America   Agriculture      566115   \n",
      "48  SVZXOPIGVC  IXTBCCMAWL      M     Australia  Construction      731102   \n",
      "\n",
      "   Province       District  \n",
      "0       PN1  Sankhauasabha  \n",
      "1       PN5   Arghakhanchi  \n",
      "2       PN6        Surkhet  \n",
      "3       PN6          Jumla  \n",
      "4       PN4         Parbat  \n",
      "5       PN4         Manang  \n",
      "6       PN3         Rasuwa  \n",
      "7       PN3         Rasuwa  \n",
      "8       PN4          Kaski  \n",
      "9       PN2      Mahottari  \n",
      "10      PN5  Eastern_Rukum  \n",
      "11      PN2      Mahottari  \n",
      "12      PN6        Dailekh  \n",
      "13      PN2       Dhanusha  \n",
      "14      PN4         Gorkha  \n",
      "15      PN5     Kapilvastu  \n",
      "16      PN4        Tanahun  \n",
      "17      PN7         Achham  \n",
      "18      PN1        Khotang  \n",
      "19      PN1    Okhaldhunga  \n",
      "20      PN6           Mugu  \n",
      "21      PN7         Bajura  \n",
      "22      PN4         Myagdi  \n",
      "23      PN5     Kapilvastu  \n",
      "24      PN2       Rautahat  \n",
      "25      PN3        Nukuwot  \n",
      "26      PN2      Mahottari  \n",
      "27      PN6        Surkhet  \n",
      "28      PN2         Siraha  \n",
      "29      PN1    Okhaldhunga  \n",
      "30      PN7           Doti  \n",
      "31      PN6         Salyan  \n",
      "32      PN4         Gorkha  \n",
      "33      PN3        Dhading  \n",
      "34      PN1      Taplejung  \n",
      "35      PN5  Eastern_Rukum  \n",
      "36      PN1     Solukhumbu  \n",
      "37      PN1       Dhankuta  \n",
      "38      PN5           Dang  \n",
      "39      PN3   Sindupalchok  \n",
      "40      PN5          Rolpa  \n",
      "41      PN3      Bhaktapur  \n",
      "42      PN2          Parsa  \n",
      "43      PN6          Dolpa  \n",
      "44      PN2       Dhanusha  \n",
      "45      PN4        Mustang  \n",
      "46      PN1        Khotang  \n",
      "47      PN4        Lamjung  \n",
      "48      PN7     Kanchanpur  \n"
     ]
    }
   ],
   "source": [
    "N=50\n",
    "FirstName=[]\n",
    "LastName=[]\n",
    "Countries=[]\n",
    "Gender=[]\n",
    "Skill=[]\n",
    "Province=[]\n",
    "District=[]\n",
    "Investment=[]\n",
    "for i in range(N):\n",
    "  FirstName=list(Names(10,i))\n",
    "  LastName=list(Names(10,i))\n",
    "for i in range(N-1):\n",
    "  Countries.append(random.choice(Foreign))\n",
    "  Gender.append(random.choice(('M','F')))\n",
    "  Skill.append(random.choice(Skills))\n",
    "  Investment.append(random.randint(1000,1000000))\n",
    "  #Lock=random.choice(list(Nepal.keys()))\n",
    "  #print (\"Lock:\",Lock)\n",
    "  One_key=random.choice(list(Nepal.items()))\n",
    "  #print (One_key[0],random.choice(One_key[1]))\n",
    "  Province.append(One_key[0])\n",
    "  District.append(random.choice(One_key[1]))\n",
    "  #Province.append(random.choice(list(Nepal.keys())))\n",
    "  #District=([LockP for LockP in Nepal.values()])\n",
    "#print (\"FirstName:\",FirstName)\n",
    "#print (\"LastName:\",LastName)\n",
    "#print (\"Countries:\",Countries)\n",
    "#print (\"Gender:\",Gender)\n",
    "#print (\"Skill:\",Skill)\n",
    "#print (\"Province:\",Province)\n",
    "#print (\"District:\",District)\n",
    "#print (\"Investment:\",Investment)\n",
    "\n",
    "Migration=pd.DataFrame(\n",
    "    {\"FirstName\":FirstName,\n",
    "     \"LastName\":LastName,\n",
    "     \"Countries\":Countries,\n",
    "     \"Gender\":Gender,\n",
    "     \"Skill\":Skill,\n",
    "     \"Province\":Province,\n",
    "     \"District\":District,\n",
    "     \"Investment\":Investment\n",
    "     })\n",
    "#print (Migration.columns)\n",
    "Migration=Migration[['FirstName',\n",
    "       'LastName',  'Gender', 'Countries','Skill', 'Investment','Province','District']]\n",
    "print (Migration)"
   ]
  }
 ],
 "metadata": {
  "colab": {
   "name": "Migration_Project.ipynb",
   "provenance": [],
   "version": "0.3.2"
  },
  "kernelspec": {
   "display_name": "Python 3",
   "language": "python",
   "name": "python3"
  }
 },
 "nbformat": 4,
 "nbformat_minor": 0
}
