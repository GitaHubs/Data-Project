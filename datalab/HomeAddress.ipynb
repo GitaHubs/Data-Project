{
 "cells": [
  {
   "cell_type": "markdown",
   "metadata": {},
   "source": [
    "### Home Address Generator"
   ]
  },
  {
   "cell_type": "code",
   "execution_count": 1,
   "metadata": {},
   "outputs": [],
   "source": [
    "import json as json\n",
    "import random as random\n",
    "import pandas as pd\n",
    "import matplotlib.pyplot as plt\n",
    "import seaborn as sns\n",
    "sns.set()"
   ]
  },
  {
   "cell_type": "markdown",
   "metadata": {},
   "source": [
    "#### Dictionary including all Provinces and Districts (Manual Aproach)"
   ]
  },
  {
   "cell_type": "code",
   "execution_count": 2,
   "metadata": {},
   "outputs": [],
   "source": [
    "Nepal = {\"PN1\":['Bhojpur',\n",
    "            'Dhankuta',\n",
    "            'Ilam',\n",
    "            'Jhapa',\n",
    "            'Khotang',\n",
    "            'Morang',\n",
    "            'Okhaldhunga',\n",
    "            'Panchthar',\n",
    "            'Sankhauasabha',\n",
    "            'Solukhumbu',\n",
    "            'Sunsari',\n",
    "            'Taplejung',\n",
    "            'Terhathum',\n",
    "            'Udayapur'],\n",
    "        \"PN2\":['Saptari',\n",
    "            'Parsa',\n",
    "            'Bara',\n",
    "            'Siraha',\n",
    "            'Dhanusha',\n",
    "            'Rautahat',\n",
    "            'Mahottari'],\n",
    "        \"PN3\":['Bhaktapur',\n",
    "            'Chitwan',\n",
    "            'Dhading',\n",
    "            'Dolakha',\n",
    "            'Kathmandu',\n",
    "            'Kabrepalanchok',\n",
    "            'Lalitpur',\n",
    "            'Makwanpur',\n",
    "            'Nukuwot',\n",
    "            'Ramechaap',\n",
    "            'Rasuwa',\n",
    "            'Sindhuli', \n",
    "            'Sindupalchok'],\n",
    "       \"PN4\":['Baglung',\n",
    "            'Gorkha',\n",
    "            'Kaski',\n",
    "            'Lamjung', \n",
    "            'Manang',\n",
    "            'Mustang',\n",
    "            'Myagdi',\n",
    "            'Nawalpur',\n",
    "            'Parbat',\n",
    "            'Syangja',\n",
    "            'Tanahun'],\n",
    "      \"PN5\": ['Arghakhanchi',\n",
    "            'Banke',\n",
    "            'Bardiya', \n",
    "            'Dang',\n",
    "            'Eastern_Rukum',\n",
    "            'Gulmi',\n",
    "            'Kapilvastu',\n",
    "            'Parasi',\n",
    "            'Palpa', \n",
    "            'Pyuthan',\n",
    "            'Rolpa',\n",
    "            'Rupandehi'],\n",
    "     \"PN6\":['Dailekh',\n",
    "            'Dolpa',\n",
    "            'Humla',\n",
    "            'Jajarkot',\n",
    "            'Jumla',\n",
    "            'Kalikot',\n",
    "            'Mugu', \n",
    "            'Salyan',\n",
    "            'Surkhet',\n",
    "            'Western_Rukum'],\n",
    "    \"PN7\": ['Achham',\n",
    "            'Baitadi',\n",
    "            'Bajhang',\n",
    "            'Bajura',\n",
    "            'Dadeldhura', \n",
    "            'Darchula',\n",
    "            'Doti',\n",
    "            'Kailali',\n",
    "            'Kanchanpur']}"
   ]
  },
  {
   "cell_type": "code",
   "execution_count": 3,
   "metadata": {},
   "outputs": [],
   "source": [
    "with open(\"data/nepal.json\",'w') as f:\n",
    "    json.dump(Nepal,f)"
   ]
  },
  {
   "cell_type": "markdown",
   "metadata": {},
   "source": [
    "##### Lets iterate over the Address Dictionary"
   ]
  },
  {
   "cell_type": "code",
   "execution_count": 4,
   "metadata": {},
   "outputs": [
    {
     "name": "stdout",
     "output_type": "stream",
     "text": [
      "PN1 ['Bhojpur', 'Dhankuta', 'Ilam', 'Jhapa', 'Khotang', 'Morang', 'Okhaldhunga', 'Panchthar', 'Sankhauasabha', 'Solukhumbu', 'Sunsari', 'Taplejung', 'Terhathum', 'Udayapur']\n",
      "PN2 ['Saptari', 'Parsa', 'Bara', 'Siraha', 'Dhanusha', 'Rautahat', 'Mahottari']\n",
      "PN3 ['Bhaktapur', 'Chitwan', 'Dhading', 'Dolakha', 'Kathmandu', 'Kabrepalanchok', 'Lalitpur', 'Makwanpur', 'Nukuwot', 'Ramechaap', 'Rasuwa', 'Sindhuli', 'Sindupalchok']\n",
      "PN4 ['Baglung', 'Gorkha', 'Kaski', 'Lamjung', 'Manang', 'Mustang', 'Myagdi', 'Nawalpur', 'Parbat', 'Syangja', 'Tanahun']\n",
      "PN5 ['Arghakhanchi', 'Banke', 'Bardiya', 'Dang', 'Eastern_Rukum', 'Gulmi', 'Kapilvastu', 'Parasi', 'Palpa', 'Pyuthan', 'Rolpa', 'Rupandehi']\n",
      "PN6 ['Dailekh', 'Dolpa', 'Humla', 'Jajarkot', 'Jumla', 'Kalikot', 'Mugu', 'Salyan', 'Surkhet', 'Western_Rukum']\n",
      "PN7 ['Achham', 'Baitadi', 'Bajhang', 'Bajura', 'Dadeldhura', 'Darchula', 'Doti', 'Kailali', 'Kanchanpur']\n"
     ]
    }
   ],
   "source": [
    "for key,value in Nepal.items():\n",
    "    print(key,value)"
   ]
  },
  {
   "cell_type": "markdown",
   "metadata": {},
   "source": [
    "##### Print all keys and values separately"
   ]
  },
  {
   "cell_type": "code",
   "execution_count": 5,
   "metadata": {},
   "outputs": [
    {
     "data": {
      "text/plain": [
       "dict_keys(['PN1', 'PN2', 'PN3', 'PN4', 'PN5', 'PN6', 'PN7'])"
      ]
     },
     "execution_count": 5,
     "metadata": {},
     "output_type": "execute_result"
    }
   ],
   "source": [
    "Nepal.keys()"
   ]
  },
  {
   "cell_type": "code",
   "execution_count": 6,
   "metadata": {},
   "outputs": [
    {
     "data": {
      "text/plain": [
       "dict_values([['Bhojpur', 'Dhankuta', 'Ilam', 'Jhapa', 'Khotang', 'Morang', 'Okhaldhunga', 'Panchthar', 'Sankhauasabha', 'Solukhumbu', 'Sunsari', 'Taplejung', 'Terhathum', 'Udayapur'], ['Saptari', 'Parsa', 'Bara', 'Siraha', 'Dhanusha', 'Rautahat', 'Mahottari'], ['Bhaktapur', 'Chitwan', 'Dhading', 'Dolakha', 'Kathmandu', 'Kabrepalanchok', 'Lalitpur', 'Makwanpur', 'Nukuwot', 'Ramechaap', 'Rasuwa', 'Sindhuli', 'Sindupalchok'], ['Baglung', 'Gorkha', 'Kaski', 'Lamjung', 'Manang', 'Mustang', 'Myagdi', 'Nawalpur', 'Parbat', 'Syangja', 'Tanahun'], ['Arghakhanchi', 'Banke', 'Bardiya', 'Dang', 'Eastern_Rukum', 'Gulmi', 'Kapilvastu', 'Parasi', 'Palpa', 'Pyuthan', 'Rolpa', 'Rupandehi'], ['Dailekh', 'Dolpa', 'Humla', 'Jajarkot', 'Jumla', 'Kalikot', 'Mugu', 'Salyan', 'Surkhet', 'Western_Rukum'], ['Achham', 'Baitadi', 'Bajhang', 'Bajura', 'Dadeldhura', 'Darchula', 'Doti', 'Kailali', 'Kanchanpur']])"
      ]
     },
     "execution_count": 6,
     "metadata": {},
     "output_type": "execute_result"
    }
   ],
   "source": [
    "Nepal.values()"
   ]
  },
  {
   "cell_type": "code",
   "execution_count": 7,
   "metadata": {},
   "outputs": [
    {
     "name": "stdout",
     "output_type": "stream",
     "text": [
      "Nepal:PN1:Bhojpur\n",
      "Nepal:PN1:Dhankuta\n",
      "Nepal:PN1:Ilam\n",
      "Nepal:PN1:Jhapa\n",
      "Nepal:PN1:Khotang\n",
      "Nepal:PN1:Morang\n",
      "Nepal:PN1:Okhaldhunga\n",
      "Nepal:PN1:Panchthar\n",
      "Nepal:PN1:Sankhauasabha\n",
      "Nepal:PN1:Solukhumbu\n",
      "Nepal:PN1:Sunsari\n",
      "Nepal:PN1:Taplejung\n",
      "Nepal:PN1:Terhathum\n",
      "Nepal:PN1:Udayapur\n",
      "Nepal:PN2:Saptari\n",
      "Nepal:PN2:Parsa\n",
      "Nepal:PN2:Bara\n",
      "Nepal:PN2:Siraha\n",
      "Nepal:PN2:Dhanusha\n",
      "Nepal:PN2:Rautahat\n",
      "Nepal:PN2:Mahottari\n",
      "Nepal:PN3:Bhaktapur\n",
      "Nepal:PN3:Chitwan\n",
      "Nepal:PN3:Dhading\n",
      "Nepal:PN3:Dolakha\n",
      "Nepal:PN3:Kathmandu\n",
      "Nepal:PN3:Kabrepalanchok\n",
      "Nepal:PN3:Lalitpur\n",
      "Nepal:PN3:Makwanpur\n",
      "Nepal:PN3:Nukuwot\n",
      "Nepal:PN3:Ramechaap\n",
      "Nepal:PN3:Rasuwa\n",
      "Nepal:PN3:Sindhuli\n",
      "Nepal:PN3:Sindupalchok\n",
      "Nepal:PN4:Baglung\n",
      "Nepal:PN4:Gorkha\n",
      "Nepal:PN4:Kaski\n",
      "Nepal:PN4:Lamjung\n",
      "Nepal:PN4:Manang\n",
      "Nepal:PN4:Mustang\n",
      "Nepal:PN4:Myagdi\n",
      "Nepal:PN4:Nawalpur\n",
      "Nepal:PN4:Parbat\n",
      "Nepal:PN4:Syangja\n",
      "Nepal:PN4:Tanahun\n",
      "Nepal:PN5:Arghakhanchi\n",
      "Nepal:PN5:Banke\n",
      "Nepal:PN5:Bardiya\n",
      "Nepal:PN5:Dang\n",
      "Nepal:PN5:Eastern_Rukum\n",
      "Nepal:PN5:Gulmi\n",
      "Nepal:PN5:Kapilvastu\n",
      "Nepal:PN5:Parasi\n",
      "Nepal:PN5:Palpa\n",
      "Nepal:PN5:Pyuthan\n",
      "Nepal:PN5:Rolpa\n",
      "Nepal:PN5:Rupandehi\n",
      "Nepal:PN6:Dailekh\n",
      "Nepal:PN6:Dolpa\n",
      "Nepal:PN6:Humla\n",
      "Nepal:PN6:Jajarkot\n",
      "Nepal:PN6:Jumla\n",
      "Nepal:PN6:Kalikot\n",
      "Nepal:PN6:Mugu\n",
      "Nepal:PN6:Salyan\n",
      "Nepal:PN6:Surkhet\n",
      "Nepal:PN6:Western_Rukum\n",
      "Nepal:PN7:Achham\n",
      "Nepal:PN7:Baitadi\n",
      "Nepal:PN7:Bajhang\n",
      "Nepal:PN7:Bajura\n",
      "Nepal:PN7:Dadeldhura\n",
      "Nepal:PN7:Darchula\n",
      "Nepal:PN7:Doti\n",
      "Nepal:PN7:Kailali\n",
      "Nepal:PN7:Kanchanpur\n"
     ]
    }
   ],
   "source": [
    "for province in list(Nepal.keys()):\n",
    "        for district in Nepal[province]:\n",
    "            print(\"Nepal\" + \":\" +  province + \":\" + district )"
   ]
  },
  {
   "cell_type": "markdown",
   "metadata": {},
   "source": [
    "#### Generate 20 random address"
   ]
  },
  {
   "cell_type": "code",
   "execution_count": 8,
   "metadata": {},
   "outputs": [
    {
     "name": "stdout",
     "output_type": "stream",
     "text": [
      "PN1 Okhaldhunga\n",
      "PN3 Lalitpur\n",
      "PN6 Dolpa\n",
      "PN7 Bajhang\n",
      "PN6 Dailekh\n",
      "PN2 Saptari\n",
      "PN6 Jumla\n",
      "PN2 Saptari\n",
      "PN6 Surkhet\n",
      "PN6 Dolpa\n",
      "PN3 Kabrepalanchok\n",
      "PN1 Sunsari\n",
      "PN3 Makwanpur\n",
      "PN3 Dolakha\n",
      "PN1 Morang\n",
      "PN2 Parsa\n",
      "PN7 Darchula\n",
      "PN7 Kailali\n",
      "PN2 Mahottari\n",
      "PN2 Dhanusha\n"
     ]
    }
   ],
   "source": [
    "for k in range(20):\n",
    "    province = random.choice(list(Nepal.keys()))\n",
    "    district = random.choice(Nepal[province])\n",
    "    print(province,district)"
   ]
  },
  {
   "cell_type": "markdown",
   "metadata": {},
   "source": [
    "----------"
   ]
  },
  {
   "cell_type": "markdown",
   "metadata": {},
   "source": [
    "### Home Address Tree"
   ]
  },
  {
   "cell_type": "markdown",
   "metadata": {},
   "source": [
    "#### Ageneric Node"
   ]
  },
  {
   "cell_type": "code",
   "execution_count": 9,
   "metadata": {},
   "outputs": [],
   "source": [
    "class Node(object):\n",
    "    \"Generic tree node.\"\n",
    "    def __init__(self,name,ID):\n",
    "        self.ID = ID\n",
    "        self.name = name\n",
    "        self.child = {}            "
   ]
  },
  {
   "cell_type": "markdown",
   "metadata": {},
   "source": [
    "#### Create a Tree object"
   ]
  },
  {
   "cell_type": "code",
   "execution_count": 10,
   "metadata": {},
   "outputs": [],
   "source": [
    "class Home(object):\n",
    "    \n",
    "    def __init__(self,country,ID):\n",
    "        self.root = Node(country,ID)\n",
    "        \n",
    "    def set_province(self,province,PID):\n",
    "        self.root.child.update({province:Node(province,PID)})\n",
    "            \n",
    "    def set_district(self,province,district,DID):\n",
    "        self.root.child[province].child.update({district:Node(district,DID)})\n",
    "        \n",
    "    def set_VRD(self,province,district,VRD,VID):\n",
    "        self.root.child[province].child[district].child.update({VRD:Node(VRD,VID)})\n",
    "        \n",
    "    def set_ward(self,province,district,VRD,ward,WID):\n",
    "         self.root.child[province].child[district].child[VRD].child.update({ward:Node(ward,WID)})\n",
    "            \n",
    "    "
   ]
  },
  {
   "cell_type": "markdown",
   "metadata": {},
   "source": [
    "#### Implementation of Tree"
   ]
  },
  {
   "cell_type": "code",
   "execution_count": 11,
   "metadata": {},
   "outputs": [],
   "source": [
    "H = Home(\"Nepal\",\"N\")\n",
    "for i,province in enumerate(list(Nepal.keys())):\n",
    "        PID = H.root.ID + 'P' + str(i+1)\n",
    "        H.set_province(province,PID)\n",
    "        for j,district in enumerate(Nepal[province]):\n",
    "            DID = PID + 'D' + str(j+1)\n",
    "            H.set_district(province, district,DID)"
   ]
  },
  {
   "cell_type": "code",
   "execution_count": 12,
   "metadata": {},
   "outputs": [
    {
     "data": {
      "text/plain": [
       "dict_keys(['PN1', 'PN2', 'PN3', 'PN4', 'PN5', 'PN6', 'PN7'])"
      ]
     },
     "execution_count": 12,
     "metadata": {},
     "output_type": "execute_result"
    }
   ],
   "source": [
    "H.root.child.keys()     "
   ]
  },
  {
   "cell_type": "code",
   "execution_count": 13,
   "metadata": {},
   "outputs": [
    {
     "data": {
      "text/plain": [
       "dict_keys(['Bhojpur', 'Dhankuta', 'Ilam', 'Jhapa', 'Khotang', 'Morang', 'Okhaldhunga', 'Panchthar', 'Sankhauasabha', 'Solukhumbu', 'Sunsari', 'Taplejung', 'Terhathum', 'Udayapur'])"
      ]
     },
     "execution_count": 13,
     "metadata": {},
     "output_type": "execute_result"
    }
   ],
   "source": [
    "H.root.child['PN1'].child.keys()"
   ]
  },
  {
   "cell_type": "code",
   "execution_count": 14,
   "metadata": {},
   "outputs": [
    {
     "data": {
      "text/plain": [
       "'NP1D1'"
      ]
     },
     "execution_count": 14,
     "metadata": {},
     "output_type": "execute_result"
    }
   ],
   "source": [
    "H.root.child['PN1'].child['Bhojpur'].ID"
   ]
  },
  {
   "cell_type": "code",
   "execution_count": 15,
   "metadata": {},
   "outputs": [
    {
     "name": "stdout",
     "output_type": "stream",
     "text": [
      "PN1 | ['Bhojpur', 'Dhankuta', 'Ilam', 'Jhapa', 'Khotang', 'Morang', 'Okhaldhunga', 'Panchthar', 'Sankhauasabha', 'Solukhumbu', 'Sunsari', 'Taplejung', 'Terhathum', 'Udayapur']\n",
      "PN2 | ['Saptari', 'Parsa', 'Bara', 'Siraha', 'Dhanusha', 'Rautahat', 'Mahottari']\n",
      "PN3 | ['Bhaktapur', 'Chitwan', 'Dhading', 'Dolakha', 'Kathmandu', 'Kabrepalanchok', 'Lalitpur', 'Makwanpur', 'Nukuwot', 'Ramechaap', 'Rasuwa', 'Sindhuli', 'Sindupalchok']\n",
      "PN4 | ['Baglung', 'Gorkha', 'Kaski', 'Lamjung', 'Manang', 'Mustang', 'Myagdi', 'Nawalpur', 'Parbat', 'Syangja', 'Tanahun']\n",
      "PN5 | ['Arghakhanchi', 'Banke', 'Bardiya', 'Dang', 'Eastern_Rukum', 'Gulmi', 'Kapilvastu', 'Parasi', 'Palpa', 'Pyuthan', 'Rolpa', 'Rupandehi']\n",
      "PN6 | ['Dailekh', 'Dolpa', 'Humla', 'Jajarkot', 'Jumla', 'Kalikot', 'Mugu', 'Salyan', 'Surkhet', 'Western_Rukum']\n",
      "PN7 | ['Achham', 'Baitadi', 'Bajhang', 'Bajura', 'Dadeldhura', 'Darchula', 'Doti', 'Kailali', 'Kanchanpur']\n"
     ]
    }
   ],
   "source": [
    "for province in H.root.child.keys():\n",
    "    print(province, \"|\" , list(H.root.child[province].child.keys()))"
   ]
  },
  {
   "cell_type": "markdown",
   "metadata": {},
   "source": [
    "---------"
   ]
  },
  {
   "cell_type": "markdown",
   "metadata": {},
   "source": [
    "[Sample Tree](https://caseolap.github.io/meshtrees/trees/M01.html)"
   ]
  },
  {
   "cell_type": "markdown",
   "metadata": {},
   "source": [
    "### Assignment"
   ]
  },
  {
   "cell_type": "markdown",
   "metadata": {},
   "source": [
    "1. Create a Dictionary including all Municipality or Rural village development\n",
    "2. Create 20 random addresses\n",
    "3. Create a Address Tree of whole Nepal as a single Tree"
   ]
  },
  {
   "cell_type": "code",
   "execution_count": null,
   "metadata": {},
   "outputs": [],
   "source": []
  },
  {
   "cell_type": "code",
   "execution_count": null,
   "metadata": {},
   "outputs": [],
   "source": []
  },
  {
   "cell_type": "code",
   "execution_count": null,
   "metadata": {},
   "outputs": [],
   "source": []
  },
  {
   "cell_type": "code",
   "execution_count": null,
   "metadata": {},
   "outputs": [],
   "source": []
  },
  {
   "cell_type": "code",
   "execution_count": null,
   "metadata": {},
   "outputs": [],
   "source": []
  },
  {
   "cell_type": "code",
   "execution_count": null,
   "metadata": {},
   "outputs": [],
   "source": []
  }
 ],
 "metadata": {
  "kernelspec": {
   "display_name": "Python 3",
   "language": "python",
   "name": "python3"
  },
  "language_info": {
   "codemirror_mode": {
    "name": "ipython",
    "version": 3
   },
   "file_extension": ".py",
   "mimetype": "text/x-python",
   "name": "python",
   "nbconvert_exporter": "python",
   "pygments_lexer": "ipython3",
   "version": "3.6.4"
  }
 },
 "nbformat": 4,
 "nbformat_minor": 2
}
