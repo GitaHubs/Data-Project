{
 "cells": [
  {
   "cell_type": "markdown",
   "metadata": {},
   "source": [
    "### Data Generator"
   ]
  },
  {
   "cell_type": "code",
   "execution_count": 26,
   "metadata": {},
   "outputs": [],
   "source": [
    "import json as json\n",
    "import random as random"
   ]
  },
  {
   "cell_type": "markdown",
   "metadata": {},
   "source": [
    "#### Source\n",
    "1. https://developers.google.com/public-data/docs/canonical/countries_csv"
   ]
  },
  {
   "cell_type": "markdown",
   "metadata": {},
   "source": [
    "#### Countries"
   ]
  },
  {
   "cell_type": "code",
   "execution_count": 34,
   "metadata": {},
   "outputs": [],
   "source": [
    "Countries = []\n",
    "with open('countries.txt','r') as f:\n",
    "    for line in f:\n",
    "        #print(line.split())\n",
    "        lt = line.split()\n",
    "        symbol = lt[0]\n",
    "        lat = lt[1]\n",
    "        lon = lt[2]\n",
    "        nm = lt[3:]\n",
    "        name =\"\"\n",
    "        for item in nm:\n",
    "            name = name + \"-\" + item\n",
    "        name = name[1:]   \n",
    "        #print(name)\n",
    "        \n",
    "        Countries.append({\"sym\" : symbol,\\\n",
    "                          \"name\" : name,\\\n",
    "                          \"lat\" : lat,\\\n",
    "                          \"lon\": lon,\\\n",
    "                          })"
   ]
  },
  {
   "cell_type": "code",
   "execution_count": 35,
   "metadata": {},
   "outputs": [],
   "source": [
    "with open(\"countries.json\", 'w') as fw:\n",
    "    json.dump(Countries,fw)"
   ]
  },
  {
   "cell_type": "markdown",
   "metadata": {},
   "source": [
    "-----"
   ]
  },
  {
   "cell_type": "markdown",
   "metadata": {},
   "source": [
    "### IDS"
   ]
  },
  {
   "cell_type": "code",
   "execution_count": 36,
   "metadata": {},
   "outputs": [],
   "source": [
    "def randomID(N):\n",
    "    letters = [\"A\", \"B\", \"C\", \"D\",\"E\",\\\n",
    "               \"F\", \"G\", \"H\", \"I\", \"J\",\\\n",
    "               \"K\", \"L\", \"M\", \"N\", \"O\",\\\n",
    "               \"P\", \"Q\", \"R\", \"S\", \"T\",\\\n",
    "               \"U\", \"V\", \"W\", \"X\", \"Y\", \"Z\"]\n",
    "    numbers = [str(i) for i in range(9)]\n",
    "    ID = \"\"\n",
    "    for k in range(N):\n",
    "        t = random.choice([0,1])\n",
    "        if t == 0:\n",
    "            ID = ID + random.choice(letters)\n",
    "        else:\n",
    "            ID = ID + random.choice(numbers)\n",
    "    return ID"
   ]
  },
  {
   "cell_type": "code",
   "execution_count": 37,
   "metadata": {},
   "outputs": [
    {
     "data": {
      "text/plain": [
       "'P0RLNP1V80'"
      ]
     },
     "execution_count": 37,
     "metadata": {},
     "output_type": "execute_result"
    }
   ],
   "source": [
    "randomID(10)"
   ]
  },
  {
   "cell_type": "code",
   "execution_count": null,
   "metadata": {},
   "outputs": [],
   "source": []
  },
  {
   "cell_type": "code",
   "execution_count": null,
   "metadata": {},
   "outputs": [],
   "source": []
  },
  {
   "cell_type": "code",
   "execution_count": null,
   "metadata": {},
   "outputs": [],
   "source": []
  },
  {
   "cell_type": "code",
   "execution_count": null,
   "metadata": {},
   "outputs": [],
   "source": []
  },
  {
   "cell_type": "code",
   "execution_count": null,
   "metadata": {},
   "outputs": [],
   "source": []
  },
  {
   "cell_type": "code",
   "execution_count": null,
   "metadata": {},
   "outputs": [],
   "source": []
  },
  {
   "cell_type": "code",
   "execution_count": null,
   "metadata": {},
   "outputs": [],
   "source": []
  },
  {
   "cell_type": "code",
   "execution_count": null,
   "metadata": {},
   "outputs": [],
   "source": []
  }
 ],
 "metadata": {
  "kernelspec": {
   "display_name": "Python 3",
   "language": "python",
   "name": "python3"
  },
  "language_info": {
   "codemirror_mode": {
    "name": "ipython",
    "version": 3
   },
   "file_extension": ".py",
   "mimetype": "text/x-python",
   "name": "python",
   "nbconvert_exporter": "python",
   "pygments_lexer": "ipython3",
   "version": "3.7.0"
  }
 },
 "nbformat": 4,
 "nbformat_minor": 2
}
